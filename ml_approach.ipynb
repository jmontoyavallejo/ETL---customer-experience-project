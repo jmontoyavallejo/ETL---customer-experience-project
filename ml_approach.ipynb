{
 "cells": [
  {
   "cell_type": "code",
   "execution_count": 10,
   "metadata": {},
   "outputs": [],
   "source": [
    "import pandas_gbq\n",
    "import pandas as pd\n",
    "from sklearn.cluster import KMeans\n",
    "from sklearn.preprocessing import StandardScaler\n",
    "import matplotlib.pyplot as plt\n"
   ]
  },
  {
   "cell_type": "code",
   "execution_count": 3,
   "metadata": {},
   "outputs": [
    {
     "name": "stderr",
     "output_type": "stream",
     "text": [
      "c:\\Users\\jpmva\\.virtualenvs\\ETL---customer-experience-project-c9QD_7vZ\\lib\\site-packages\\google\\auth\\_default.py:78: UserWarning: Your application has authenticated using end user credentials from Google Cloud SDK without a quota project. You might receive a \"quota exceeded\" or \"API not enabled\" error. See the following page for troubleshooting: https://cloud.google.com/docs/authentication/adc-troubleshooting/user-creds. \n",
      "  warnings.warn(_CLOUD_SDK_CREDENTIALS_WARNING)\n"
     ]
    }
   ],
   "source": [
    "with open('app/SQL/Query_traer_clientes_simplificado.sql') as file:\n",
    "    query=file.read()\n",
    "data=pandas_gbq.read_gbq(query, project_id='customer-experience-384423',progress_bar_type=None)"
   ]
  },
  {
   "cell_type": "code",
   "execution_count": 6,
   "metadata": {},
   "outputs": [
    {
     "name": "stdout",
     "output_type": "stream",
     "text": [
      "<class 'pandas.core.frame.DataFrame'>\n",
      "RangeIndex: 250209 entries, 0 to 250208\n",
      "Data columns (total 62 columns):\n",
      " #   Column                             Non-Null Count   Dtype  \n",
      "---  ------                             --------------   -----  \n",
      " 0   id_cliente                         250209 non-null  Int64  \n",
      " 1   promedio_compra                    250209 non-null  float64\n",
      " 2   contactable                        250209 non-null  Int64  \n",
      " 3   compro_en_OUTLET                   250209 non-null  Int64  \n",
      " 4   compro_en_ESTELAR                  250209 non-null  Int64  \n",
      " 5   compro_en_MOVIES                   250209 non-null  Int64  \n",
      " 6   compro_en_LITTLE_MIC               250209 non-null  Int64  \n",
      " 7   compro_en_MOVIES_W                 250209 non-null  Int64  \n",
      " 8   compro_en_OUTLET_MIC               250209 non-null  Int64  \n",
      " 9   compro_en_EVENTOS                  250209 non-null  Int64  \n",
      " 10  compro_en_OUTLET_LITTLE_MIC        250209 non-null  Int64  \n",
      " 11  compro_en_ESTELAR_ECUADOR          250209 non-null  Int64  \n",
      " 12  compro_en_LITTLE_MIC_ECUADOR       250209 non-null  Int64  \n",
      " 13  dias_desde_ultima_compra           250209 non-null  Int64  \n",
      " 14  compro_objeto_3_ELEFANTES          250209 non-null  Int64  \n",
      " 15  compro_objeto_PELUCHES             250209 non-null  Int64  \n",
      " 16  compro_objeto_CALCETINES           250209 non-null  Int64  \n",
      " 17  compro_objeto_PELUCHE              250209 non-null  Int64  \n",
      " 18  compro_objeto_BOLSO                250209 non-null  Int64  \n",
      " 19  compro_objeto_CARTUCHERA           250209 non-null  Int64  \n",
      " 20  compro_objeto_BILLETERA            250209 non-null  Int64  \n",
      " 21  compro_objeto_FUNKOS               250209 non-null  Int64  \n",
      " 22  compro_objeto_SALIDA_DE_BANO       250209 non-null  Int64  \n",
      " 23  compro_objeto_GAFAS                250209 non-null  Int64  \n",
      " 24  compro_objeto_SET_DE_ALIMENTACION  250209 non-null  Int64  \n",
      " 25  compro_objeto_JUGUETERIA           250209 non-null  Int64  \n",
      " 26  compro_objeto_CARTERA              250209 non-null  Int64  \n",
      " 27  compro_objeto_MALETA_VIAJERA       250209 non-null  Int64  \n",
      " 28  compro_objeto_TENIS_CON_RUEDAS     250209 non-null  Int64  \n",
      " 29  compro_objeto_SET_DE_BELLEZA       250209 non-null  Int64  \n",
      " 30  compro_objeto_SUECOS               250209 non-null  Int64  \n",
      " 31  compro_objeto_MORRAL               250209 non-null  Int64  \n",
      " 32  compro_objeto_PANTUFLAS            250209 non-null  Int64  \n",
      " 33  compro_objeto_PARAGUAS             250209 non-null  Int64  \n",
      " 34  compro_objeto_LONCHERA             250209 non-null  Int64  \n",
      " 35  compro_objeto_SANDALIAS            250209 non-null  Int64  \n",
      " 36  compro_objeto_BOTAS                250209 non-null  Int64  \n",
      " 37  compro_objeto_BONO                 250209 non-null  Int64  \n",
      " 38  compro_objeto_MALETA_CON_RUEDAS    250209 non-null  Int64  \n",
      " 39  compro_objeto_SET_ESCOLAR          250209 non-null  Int64  \n",
      " 40  compro_objeto_GORRAS               250209 non-null  Int64  \n",
      " 41  compro_objeto_GORRO                250209 non-null  Int64  \n",
      " 42  compro_objeto_COBIJA               250209 non-null  Int64  \n",
      " 43  compro_objeto_BABERO               250209 non-null  Int64  \n",
      " 44  compro_objeto_TENIS                250209 non-null  Int64  \n",
      " 45  compro_objeto_BALETA               250209 non-null  Int64  \n",
      " 46  compro_objeto_ZAPATOS              250209 non-null  Int64  \n",
      " 47  compro_objeto_TENIS_CON_LUCES      250209 non-null  Int64  \n",
      " 48  compro_objeto_CORREAS              250209 non-null  Int64  \n",
      " 49  compro_objeto_AROMAS               250209 non-null  Int64  \n",
      " 50  compro_objeto_POP                  250209 non-null  Int64  \n",
      " 51  compro_objeto_BOLSA                250209 non-null  Int64  \n",
      " 52  compro_objeto_RELOJ                250209 non-null  Int64  \n",
      " 53  compro_objeto_MOCHILA              250209 non-null  Int64  \n",
      " 54  compro_objeto_ESTUCHES             250209 non-null  Int64  \n",
      " 55  compro_objeto_PANALERA             250209 non-null  Int64  \n",
      " 56  compro_objeto_DULCES               250209 non-null  Int64  \n",
      " 57  compro_objeto_CAMISETA             250209 non-null  Int64  \n",
      " 58  compro_objeto_SET                  250209 non-null  Int64  \n",
      " 59  compro_objeto_STICKERS             250209 non-null  Int64  \n",
      " 60  compro_objeto_PANTALON             250209 non-null  Int64  \n",
      " 61  compro_objeto_ACCESORIOS           250209 non-null  Int64  \n",
      "dtypes: Int64(61), float64(1)\n",
      "memory usage: 132.9 MB\n"
     ]
    }
   ],
   "source": [
    "data.info()"
   ]
  },
  {
   "cell_type": "code",
   "execution_count": 11,
   "metadata": {},
   "outputs": [],
   "source": [
    "data = data.dropna()"
   ]
  },
  {
   "cell_type": "code",
   "execution_count": 12,
   "metadata": {},
   "outputs": [],
   "source": [
    "scaler = StandardScaler()\n",
    "data_scaled = scaler.fit_transform(data)\n",
    "data = pd.DataFrame(data_scaled, columns=data.columns)"
   ]
  },
  {
   "cell_type": "code",
   "execution_count": 13,
   "metadata": {},
   "outputs": [],
   "source": [
    "kmeans = KMeans(n_clusters=3, random_state=42)"
   ]
  },
  {
   "cell_type": "code",
   "execution_count": 14,
   "metadata": {},
   "outputs": [
    {
     "name": "stderr",
     "output_type": "stream",
     "text": [
      "c:\\Users\\jpmva\\.virtualenvs\\ETL---customer-experience-project-c9QD_7vZ\\lib\\site-packages\\sklearn\\cluster\\_kmeans.py:870: FutureWarning: The default value of `n_init` will change from 10 to 'auto' in 1.4. Set the value of `n_init` explicitly to suppress the warning\n",
      "  warnings.warn(\n"
     ]
    },
    {
     "data": {
      "text/html": [
       "<style>#sk-container-id-1 {color: black;background-color: white;}#sk-container-id-1 pre{padding: 0;}#sk-container-id-1 div.sk-toggleable {background-color: white;}#sk-container-id-1 label.sk-toggleable__label {cursor: pointer;display: block;width: 100%;margin-bottom: 0;padding: 0.3em;box-sizing: border-box;text-align: center;}#sk-container-id-1 label.sk-toggleable__label-arrow:before {content: \"▸\";float: left;margin-right: 0.25em;color: #696969;}#sk-container-id-1 label.sk-toggleable__label-arrow:hover:before {color: black;}#sk-container-id-1 div.sk-estimator:hover label.sk-toggleable__label-arrow:before {color: black;}#sk-container-id-1 div.sk-toggleable__content {max-height: 0;max-width: 0;overflow: hidden;text-align: left;background-color: #f0f8ff;}#sk-container-id-1 div.sk-toggleable__content pre {margin: 0.2em;color: black;border-radius: 0.25em;background-color: #f0f8ff;}#sk-container-id-1 input.sk-toggleable__control:checked~div.sk-toggleable__content {max-height: 200px;max-width: 100%;overflow: auto;}#sk-container-id-1 input.sk-toggleable__control:checked~label.sk-toggleable__label-arrow:before {content: \"▾\";}#sk-container-id-1 div.sk-estimator input.sk-toggleable__control:checked~label.sk-toggleable__label {background-color: #d4ebff;}#sk-container-id-1 div.sk-label input.sk-toggleable__control:checked~label.sk-toggleable__label {background-color: #d4ebff;}#sk-container-id-1 input.sk-hidden--visually {border: 0;clip: rect(1px 1px 1px 1px);clip: rect(1px, 1px, 1px, 1px);height: 1px;margin: -1px;overflow: hidden;padding: 0;position: absolute;width: 1px;}#sk-container-id-1 div.sk-estimator {font-family: monospace;background-color: #f0f8ff;border: 1px dotted black;border-radius: 0.25em;box-sizing: border-box;margin-bottom: 0.5em;}#sk-container-id-1 div.sk-estimator:hover {background-color: #d4ebff;}#sk-container-id-1 div.sk-parallel-item::after {content: \"\";width: 100%;border-bottom: 1px solid gray;flex-grow: 1;}#sk-container-id-1 div.sk-label:hover label.sk-toggleable__label {background-color: #d4ebff;}#sk-container-id-1 div.sk-serial::before {content: \"\";position: absolute;border-left: 1px solid gray;box-sizing: border-box;top: 0;bottom: 0;left: 50%;z-index: 0;}#sk-container-id-1 div.sk-serial {display: flex;flex-direction: column;align-items: center;background-color: white;padding-right: 0.2em;padding-left: 0.2em;position: relative;}#sk-container-id-1 div.sk-item {position: relative;z-index: 1;}#sk-container-id-1 div.sk-parallel {display: flex;align-items: stretch;justify-content: center;background-color: white;position: relative;}#sk-container-id-1 div.sk-item::before, #sk-container-id-1 div.sk-parallel-item::before {content: \"\";position: absolute;border-left: 1px solid gray;box-sizing: border-box;top: 0;bottom: 0;left: 50%;z-index: -1;}#sk-container-id-1 div.sk-parallel-item {display: flex;flex-direction: column;z-index: 1;position: relative;background-color: white;}#sk-container-id-1 div.sk-parallel-item:first-child::after {align-self: flex-end;width: 50%;}#sk-container-id-1 div.sk-parallel-item:last-child::after {align-self: flex-start;width: 50%;}#sk-container-id-1 div.sk-parallel-item:only-child::after {width: 0;}#sk-container-id-1 div.sk-dashed-wrapped {border: 1px dashed gray;margin: 0 0.4em 0.5em 0.4em;box-sizing: border-box;padding-bottom: 0.4em;background-color: white;}#sk-container-id-1 div.sk-label label {font-family: monospace;font-weight: bold;display: inline-block;line-height: 1.2em;}#sk-container-id-1 div.sk-label-container {text-align: center;}#sk-container-id-1 div.sk-container {/* jupyter's `normalize.less` sets `[hidden] { display: none; }` but bootstrap.min.css set `[hidden] { display: none !important; }` so we also need the `!important` here to be able to override the default hidden behavior on the sphinx rendered scikit-learn.org. See: https://github.com/scikit-learn/scikit-learn/issues/21755 */display: inline-block !important;position: relative;}#sk-container-id-1 div.sk-text-repr-fallback {display: none;}</style><div id=\"sk-container-id-1\" class=\"sk-top-container\"><div class=\"sk-text-repr-fallback\"><pre>KMeans(n_clusters=3, random_state=42)</pre><b>In a Jupyter environment, please rerun this cell to show the HTML representation or trust the notebook. <br />On GitHub, the HTML representation is unable to render, please try loading this page with nbviewer.org.</b></div><div class=\"sk-container\" hidden><div class=\"sk-item\"><div class=\"sk-estimator sk-toggleable\"><input class=\"sk-toggleable__control sk-hidden--visually\" id=\"sk-estimator-id-1\" type=\"checkbox\" checked><label for=\"sk-estimator-id-1\" class=\"sk-toggleable__label sk-toggleable__label-arrow\">KMeans</label><div class=\"sk-toggleable__content\"><pre>KMeans(n_clusters=3, random_state=42)</pre></div></div></div></div></div>"
      ],
      "text/plain": [
       "KMeans(n_clusters=3, random_state=42)"
      ]
     },
     "execution_count": 14,
     "metadata": {},
     "output_type": "execute_result"
    }
   ],
   "source": [
    "kmeans.fit(data)"
   ]
  },
  {
   "cell_type": "code",
   "execution_count": 15,
   "metadata": {},
   "outputs": [],
   "source": [
    "labels = kmeans.labels_"
   ]
  },
  {
   "cell_type": "code",
   "execution_count": 16,
   "metadata": {},
   "outputs": [],
   "source": [
    "centroids = kmeans.cluster_centers_"
   ]
  },
  {
   "cell_type": "code",
   "execution_count": 24,
   "metadata": {},
   "outputs": [
    {
     "data": {
      "text/plain": [
       "array([[ 2.61684763e-02, -3.34567421e-01,  5.48778618e-02,\n",
       "         0.00000000e+00,  0.00000000e+00,  0.00000000e+00,\n",
       "         6.80944617e-02,  0.00000000e+00,  0.00000000e+00,\n",
       "         0.00000000e+00, -2.14573390e-01,  0.00000000e+00,\n",
       "         0.00000000e+00, -6.90915809e-02,  0.00000000e+00,\n",
       "         1.47312405e-02,  1.32546357e-02,  4.91569582e-03,\n",
       "         0.00000000e+00,  0.00000000e+00,  0.00000000e+00,\n",
       "         0.00000000e+00,  0.00000000e+00,  2.39816967e-02,\n",
       "         1.42376991e-02, -4.50822986e-03,  0.00000000e+00,\n",
       "         2.11373304e-03,  0.00000000e+00,  1.12257708e-02,\n",
       "         2.07056798e-02, -1.13546932e-02,  2.68210370e-02,\n",
       "         0.00000000e+00, -1.43999603e-02,  2.71683024e-02,\n",
       "        -7.81833466e-03, -2.82725688e-03, -1.86910040e-02,\n",
       "         0.00000000e+00,  3.99413214e-02,  1.68390118e-02,\n",
       "        -8.52048366e-04,  8.63853437e-03,  1.22386637e-02,\n",
       "         5.76052586e-03, -2.55375884e-03,  3.56319996e-02,\n",
       "        -4.31561687e-03,  3.49874461e-03,  1.62374754e-02,\n",
       "         0.00000000e+00,  2.95442160e-03, -2.24564451e-03,\n",
       "         0.00000000e+00,  0.00000000e+00,  0.00000000e+00,\n",
       "         1.05503164e+00,  0.00000000e+00,  0.00000000e+00,\n",
       "         4.37800322e-02,  0.00000000e+00],\n",
       "       [-1.32210417e-01, -4.71787669e-01,  1.40853889e-03,\n",
       "         0.00000000e+00,  0.00000000e+00,  0.00000000e+00,\n",
       "        -1.95168918e+00,  0.00000000e+00,  0.00000000e+00,\n",
       "         0.00000000e+00,  4.66041012e+00,  0.00000000e+00,\n",
       "         0.00000000e+00, -4.86943316e-01,  0.00000000e+00,\n",
       "        -1.02365215e-02, -2.18349369e-02, -1.84247838e-03,\n",
       "         0.00000000e+00,  0.00000000e+00,  0.00000000e+00,\n",
       "         0.00000000e+00,  0.00000000e+00, -6.70951726e-02,\n",
       "        -2.77397054e-02, -2.05870198e-02,  0.00000000e+00,\n",
       "         6.18642450e-03,  0.00000000e+00, -1.88198433e-02,\n",
       "         4.97551017e-02, -3.76034842e-03, -4.68804660e-02,\n",
       "         0.00000000e+00, -1.34323515e-02, -3.08202650e-02,\n",
       "         1.90230088e-02, -2.82725688e-03,  1.46229003e-03,\n",
       "         0.00000000e+00, -3.23521681e-02, -2.20869040e-03,\n",
       "        -1.95244860e-02,  2.32671189e-02, -2.15033924e-02,\n",
       "        -4.02658144e-03,  4.38538436e-03, -5.55620128e-02,\n",
       "        -5.22600249e-04, -2.82725688e-03, -2.72749363e-02,\n",
       "         0.00000000e+00, -2.13501004e-02,  5.38925339e-03,\n",
       "         0.00000000e+00,  0.00000000e+00,  0.00000000e+00,\n",
       "         2.29415795e-01,  0.00000000e+00,  0.00000000e+00,\n",
       "         3.19513821e-02,  0.00000000e+00],\n",
       "       [-1.15431028e-02,  3.34525123e-01, -4.83016474e-02,\n",
       "         0.00000000e+00,  0.00000000e+00,  0.00000000e+00,\n",
       "         1.08967424e-01,  0.00000000e+00,  0.00000000e+00,\n",
       "         0.00000000e+00, -2.14573390e-01,  0.00000000e+00,\n",
       "         0.00000000e+00,  1.02761796e-01,  0.00000000e+00,\n",
       "        -1.20481598e-02, -9.74893404e-03, -4.15641292e-03,\n",
       "         0.00000000e+00,  0.00000000e+00,  0.00000000e+00,\n",
       "         0.00000000e+00,  0.00000000e+00, -1.52533473e-02,\n",
       "        -1.01014621e-02,  5.73802242e-03,  0.00000000e+00,\n",
       "        -2.39064850e-03,  0.00000000e+00, -8.22839493e-03,\n",
       "        -2.24805143e-02,  1.02939545e-02, -1.94939813e-02,\n",
       "         0.00000000e+00,  1.38038175e-02, -2.11874904e-02,\n",
       "         5.21927972e-03,  2.72663778e-03,  1.62832774e-02,\n",
       "         0.00000000e+00, -3.22690710e-02, -1.45927895e-02,\n",
       "         2.43621761e-03, -9.59594324e-03, -8.88563105e-03,\n",
       "        -4.70928283e-03,  1.86288750e-03, -2.64788995e-02,\n",
       "         3.83406939e-03, -2.82725688e-03, -1.18973457e-02,\n",
       "         0.00000000e+00, -7.47811824e-04,  1.50558094e-03,\n",
       "         0.00000000e+00,  0.00000000e+00,  0.00000000e+00,\n",
       "        -9.46098167e-01,  0.00000000e+00,  0.00000000e+00,\n",
       "        -4.11991951e-02,  0.00000000e+00]])"
      ]
     },
     "execution_count": 24,
     "metadata": {},
     "output_type": "execute_result"
    }
   ],
   "source": [
    "centroids"
   ]
  },
  {
   "cell_type": "code",
   "execution_count": null,
   "metadata": {},
   "outputs": [],
   "source": []
  }
 ],
 "metadata": {
  "kernelspec": {
   "display_name": "ETL---customer-experience-project-c9QD_7vZ",
   "language": "python",
   "name": "python3"
  },
  "language_info": {
   "codemirror_mode": {
    "name": "ipython",
    "version": 3
   },
   "file_extension": ".py",
   "mimetype": "text/x-python",
   "name": "python",
   "nbconvert_exporter": "python",
   "pygments_lexer": "ipython3",
   "version": "3.10.6"
  },
  "orig_nbformat": 4
 },
 "nbformat": 4,
 "nbformat_minor": 2
}
