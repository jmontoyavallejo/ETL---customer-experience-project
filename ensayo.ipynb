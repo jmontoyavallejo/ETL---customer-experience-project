{
 "cells": [
  {
   "cell_type": "code",
   "execution_count": 59,
   "metadata": {},
   "outputs": [],
   "source": [
    "import pandas as pd\n",
    "import psycopg2\n",
    "import requests\n",
    "import io\n",
    "import pandas_gbq\n",
    "from google.cloud import storage\n",
    "def download_csv_from_gcs(bucket_name, file_name,project_name)->pd.DataFrame:\n",
    "    \"\"\"\n",
    "    Downloads a CSV file from Google Cloud Storage and returns it as a DataFrame.\n",
    "\n",
    "    Args:\n",
    "        bucket_name (str): Name of the Google Cloud Storage bucket.\n",
    "        file_name (str): Name of the CSV file to be downloaded.\n",
    "        project_name (str): Name of the project in google cloud.\n",
    "\n",
    "    Returns:\n",
    "        pd.DataFrame: DataFrame containing the data from the downloaded CSV file.\n",
    "    \"\"\"\n",
    "    storage_client = storage.Client(project=project_name)\n",
    "    bucket = storage_client.get_bucket(bucket_name)\n",
    "    blob = bucket.blob(file_name)\n",
    "    file_string = blob.download_as_text()\n",
    "    df = pd.read_csv(io.StringIO(file_string),sep=';',low_memory=False)\n",
    "    return df\n",
    "\n",
    "\n"
   ]
  },
  {
   "cell_type": "code",
   "execution_count": 71,
   "metadata": {},
   "outputs": [
    {
     "name": "stderr",
     "output_type": "stream",
     "text": [
      "c:\\Users\\jpmva\\.virtualenvs\\ETL---customer-experience-project-c9QD_7vZ\\lib\\site-packages\\google\\auth\\_default.py:78: UserWarning: Your application has authenticated using end user credentials from Google Cloud SDK without a quota project. You might receive a \"quota exceeded\" or \"API not enabled\" error. See the following page for troubleshooting: https://cloud.google.com/docs/authentication/adc-troubleshooting/user-creds. \n",
      "  warnings.warn(_CLOUD_SDK_CREDENTIALS_WARNING)\n"
     ]
    }
   ],
   "source": [
    "df_mineria_resultado_campanas_csv=download_csv_from_gcs('customer_experience_bucket', 'mineria_resultado_campanas.csv','customer experience')\n"
   ]
  },
  {
   "cell_type": "code",
   "execution_count": 60,
   "metadata": {},
   "outputs": [
    {
     "name": "stderr",
     "output_type": "stream",
     "text": [
      "c:\\Users\\jpmva\\.virtualenvs\\ETL---customer-experience-project-c9QD_7vZ\\lib\\site-packages\\google\\auth\\_default.py:78: UserWarning: Your application has authenticated using end user credentials from Google Cloud SDK without a quota project. You might receive a \"quota exceeded\" or \"API not enabled\" error. See the following page for troubleshooting: https://cloud.google.com/docs/authentication/adc-troubleshooting/user-creds. \n",
      "  warnings.warn(_CLOUD_SDK_CREDENTIALS_WARNING)\n"
     ]
    }
   ],
   "source": [
    "df_mineria_ventas_csv=download_csv_from_gcs('customer_experience_bucket', 'mineria_venta.csv','customer experience')\n"
   ]
  },
  {
   "cell_type": "code",
   "execution_count": 54,
   "metadata": {},
   "outputs": [
    {
     "name": "stderr",
     "output_type": "stream",
     "text": [
      "c:\\Users\\jpmva\\.virtualenvs\\ETL---customer-experience-project-c9QD_7vZ\\lib\\site-packages\\google\\auth\\_default.py:78: UserWarning: Your application has authenticated using end user credentials from Google Cloud SDK without a quota project. You might receive a \"quota exceeded\" or \"API not enabled\" error. See the following page for troubleshooting: https://cloud.google.com/docs/authentication/adc-troubleshooting/user-creds. \n",
      "  warnings.warn(_CLOUD_SDK_CREDENTIALS_WARNING)\n"
     ]
    }
   ],
   "source": [
    "\n",
    "dtype={\n",
    "'ID FACTURA':'str',\n",
    "'FECHA_LARGA':'str',\n",
    "'ID_PDV':'int',\n",
    "'ID CLIENTE':'int',\n",
    "'NUMERO FACTURA':'str',\n",
    "'UNIDADES':'str',\n",
    "'PORCENTAJE DESCUENTO':'str',\n",
    "'PRECIO FULL':'int',\n",
    "'porcentaje_iva':'int',\n",
    "'PRECIO ANTES IVA':'int',\n",
    "'PRECIO CON IVA':'int',\n",
    "'FORMAS DE PAGO':'str',\n",
    "'ID REFERENCIA':'str',\n",
    "'PROMOCION':'str',\n",
    "'HABEAS DATA VENTA':'str',\n",
    "'VALOR DESCUENTO':'str',\n",
    "'COSTO TOTAL':'str',\n",
    "'COSTO UNITARIO':'int',\n",
    "'ID_VENDEDOR':'int',\n",
    "'ESTADO ID VENTA':'str',\n",
    "'ESTADO CELULAR VENTA':'str',\n",
    "'ESTADO EMAIL VENTA':'str',\n",
    "'FECHA':'str',\n",
    "'CONSECUTIVO TRX':'str',\n",
    "'CAPTURA DE DATOS CEL':'str',\n",
    "'CAPTURA DE DATOS CEL+CORREO':'str',\n",
    "'CAPTURA DE DATOS COMPLETO':'str',\n",
    "'RANGO TICKET':'str',\n",
    "'TICKET':'float'}\n",
    "df_mineria_ventas_csv=download_csv_from_gcs('customer_experience_bucket', 'mineria_venta.csv','customer experience')"
   ]
  },
  {
   "cell_type": "code",
   "execution_count": 62,
   "metadata": {},
   "outputs": [],
   "source": [
    "old_column_names=df_mineria_ventas_csv.columns.to_list()\n",
    "new_column_names=['id_factura',\n",
    "'fecha_larga',\n",
    "'id_pdv',\n",
    "'id_cliente',\n",
    "'numero_factura',\n",
    "'unidades',\n",
    "'porcentaje_descuento',\n",
    "'precio_full',\n",
    "'porcentaje_iva',\n",
    "'precio_antes_iva',\n",
    "'precio_con_iva',\n",
    "'formas_de_pago',\n",
    "'id_referencia',\n",
    "'promocion',\n",
    "'habeas_data_venta',\n",
    "'valor_descuento',\n",
    "'costo_total',\n",
    "'costo_unitario',\n",
    "'id_vendedor',\n",
    "'estado_id_venta',\n",
    "'estado_celular_venta',\n",
    "'estado_email_venta',\n",
    "'fecha',\n",
    "'consecutivo_trx',\n",
    "'captura_de_datos_cel',\n",
    "'captura_de_datos_celcorreo',\n",
    "'captura_de_datos_completo',\n",
    "'rango_ticket',\n",
    "'ticket']\n",
    "cambio_cols=dict(zip(old_column_names,new_column_names))\n",
    "df_mineria_ventas_csv.rename(columns=cambio_cols,inplace=True)"
   ]
  },
  {
   "cell_type": "code",
   "execution_count": 63,
   "metadata": {},
   "outputs": [],
   "source": [
    "df_mineria_ventas_csv['ticket']=df_mineria_ventas_csv.ticket.astype('int')\n",
    "df_mineria_ventas_csv['precio_antes_iva']=df_mineria_ventas_csv['precio_antes_iva'].str.replace('$', '').str.replace(' ', '').str.replace('.','').astype('int')"
   ]
  },
  {
   "cell_type": "code",
   "execution_count": 66,
   "metadata": {},
   "outputs": [
    {
     "name": "stdout",
     "output_type": "stream",
     "text": [
      "<class 'pandas.core.frame.DataFrame'>\n",
      "RangeIndex: 1048327 entries, 0 to 1048326\n",
      "Data columns (total 29 columns):\n",
      " #   Column                      Non-Null Count    Dtype  \n",
      "---  ------                      --------------    -----  \n",
      " 0   id_factura                  1048327 non-null  object \n",
      " 1   fecha_larga                 1048327 non-null  object \n",
      " 2   id_pdv                      1048327 non-null  int64  \n",
      " 3   id_cliente                  1048327 non-null  int64  \n",
      " 4   numero_factura              1048327 non-null  object \n",
      " 5   unidades                    1048320 non-null  float64\n",
      " 6   porcentaje_descuento        1024637 non-null  object \n",
      " 7   precio_full                 1048327 non-null  object \n",
      " 8   porcentaje_iva              1048327 non-null  object \n",
      " 9   precio_antes_iva            1048327 non-null  object \n",
      " 10  precio_con_iva              1048327 non-null  object \n",
      " 11  formas_de_pago              880401 non-null   object \n",
      " 12  id_referencia               1048327 non-null  int64  \n",
      " 13  promocion                   1048327 non-null  object \n",
      " 14  habeas_data_venta           1048327 non-null  object \n",
      " 15  valor_descuento             1024637 non-null  float64\n",
      " 16  costo_total                 1048327 non-null  object \n",
      " 17  costo_unitario              1048327 non-null  object \n",
      " 18  id_vendedor                 1048327 non-null  int64  \n",
      " 19  estado_id_venta             1048327 non-null  object \n",
      " 20  estado_celular_venta        1048327 non-null  object \n",
      " 21  estado_email_venta          1048327 non-null  object \n",
      " 22  fecha                       1048327 non-null  int64  \n",
      " 23  consecutivo_trx             1048327 non-null  int64  \n",
      " 24  captura_de_datos_cel        1048327 non-null  object \n",
      " 25  captura_de_datos_celcorreo  1048327 non-null  object \n",
      " 26  captura_de_datos_completo   1048327 non-null  object \n",
      " 27  rango_ticket                1048327 non-null  object \n",
      " 28  ticket                      1048327 non-null  object \n",
      "dtypes: float64(2), int64(6), object(21)\n",
      "memory usage: 231.9+ MB\n"
     ]
    }
   ],
   "source": [
    "df_mineria_ventas_csv.info()"
   ]
  },
  {
   "cell_type": "code",
   "execution_count": 70,
   "metadata": {},
   "outputs": [
    {
     "data": {
      "text/plain": [
       "rango_ticket\n",
       "< 70.000               -100179\n",
       ">=200.000 < 500.000     200009\n",
       ">=500.000              1000622\n",
       ">=70.000 < 200.000      100000\n",
       "Name: ticket, dtype: object"
      ]
     },
     "execution_count": 70,
     "metadata": {},
     "output_type": "execute_result"
    }
   ],
   "source": [
    "df_mineria_ventas_csv.groupby('rango_ticket')['ticket'].min()"
   ]
  },
  {
   "cell_type": "code",
   "execution_count": 73,
   "metadata": {},
   "outputs": [
    {
     "name": "stderr",
     "output_type": "stream",
     "text": [
      "c:\\Users\\jpmva\\.virtualenvs\\ETL---customer-experience-project-c9QD_7vZ\\lib\\site-packages\\google\\auth\\_default.py:78: UserWarning: Your application has authenticated using end user credentials from Google Cloud SDK without a quota project. You might receive a \"quota exceeded\" or \"API not enabled\" error. See the following page for troubleshooting: https://cloud.google.com/docs/authentication/adc-troubleshooting/user-creds. \n",
      "  warnings.warn(_CLOUD_SDK_CREDENTIALS_WARNING)\n"
     ]
    },
    {
     "ename": "KeyboardInterrupt",
     "evalue": "",
     "output_type": "error",
     "traceback": [
      "\u001b[1;31m---------------------------------------------------------------------------\u001b[0m",
      "\u001b[1;31mKeyboardInterrupt\u001b[0m                         Traceback (most recent call last)",
      "Cell \u001b[1;32mIn[73], line 11\u001b[0m\n\u001b[0;32m      9\u001b[0m \u001b[39m# Create the BigQuery table object\u001b[39;00m\n\u001b[0;32m     10\u001b[0m table \u001b[39m=\u001b[39m bigquery\u001b[39m.\u001b[39mTable(\u001b[39mf\u001b[39m\u001b[39m\"\u001b[39m\u001b[39m{\u001b[39;00mproject_id\u001b[39m}\u001b[39;00m\u001b[39m.\u001b[39m\u001b[39m{\u001b[39;00mdataset_id\u001b[39m}\u001b[39;00m\u001b[39m.\u001b[39m\u001b[39m{\u001b[39;00mtable_id\u001b[39m}\u001b[39;00m\u001b[39m\"\u001b[39m)\n\u001b[1;32m---> 11\u001b[0m job \u001b[39m=\u001b[39m client\u001b[39m.\u001b[39mload_table_from_dataframe(df_mineria_ventas_csv\u001b[39m.\u001b[39;49mastype(\u001b[39m'\u001b[39;49m\u001b[39mstring\u001b[39;49m\u001b[39m'\u001b[39;49m), table)\n\u001b[0;32m     12\u001b[0m job\u001b[39m.\u001b[39mresult()\n",
      "File \u001b[1;32mc:\\Users\\jpmva\\.virtualenvs\\ETL---customer-experience-project-c9QD_7vZ\\lib\\site-packages\\pandas\\core\\generic.py:6317\u001b[0m, in \u001b[0;36mNDFrame.astype\u001b[1;34m(self, dtype, copy, errors)\u001b[0m\n\u001b[0;32m   6311\u001b[0m         results\u001b[39m.\u001b[39mappend(res_col)\n\u001b[0;32m   6313\u001b[0m \u001b[39melif\u001b[39;00m is_extension_array_dtype(dtype) \u001b[39mand\u001b[39;00m \u001b[39mself\u001b[39m\u001b[39m.\u001b[39mndim \u001b[39m>\u001b[39m \u001b[39m1\u001b[39m:\n\u001b[0;32m   6314\u001b[0m     \u001b[39m# GH 18099/22869: columnwise conversion to extension dtype\u001b[39;00m\n\u001b[0;32m   6315\u001b[0m     \u001b[39m# GH 24704: use iloc to handle duplicate column names\u001b[39;00m\n\u001b[0;32m   6316\u001b[0m     \u001b[39m# TODO(EA2D): special case not needed with 2D EAs\u001b[39;00m\n\u001b[1;32m-> 6317\u001b[0m     results \u001b[39m=\u001b[39m [\n\u001b[0;32m   6318\u001b[0m         \u001b[39mself\u001b[39m\u001b[39m.\u001b[39miloc[:, i]\u001b[39m.\u001b[39mastype(dtype, copy\u001b[39m=\u001b[39mcopy)\n\u001b[0;32m   6319\u001b[0m         \u001b[39mfor\u001b[39;00m i \u001b[39min\u001b[39;00m \u001b[39mrange\u001b[39m(\u001b[39mlen\u001b[39m(\u001b[39mself\u001b[39m\u001b[39m.\u001b[39mcolumns))\n\u001b[0;32m   6320\u001b[0m     ]\n\u001b[0;32m   6322\u001b[0m \u001b[39melse\u001b[39;00m:\n\u001b[0;32m   6323\u001b[0m     \u001b[39m# else, only a single dtype is given\u001b[39;00m\n\u001b[0;32m   6324\u001b[0m     new_data \u001b[39m=\u001b[39m \u001b[39mself\u001b[39m\u001b[39m.\u001b[39m_mgr\u001b[39m.\u001b[39mastype(dtype\u001b[39m=\u001b[39mdtype, copy\u001b[39m=\u001b[39mcopy, errors\u001b[39m=\u001b[39merrors)\n",
      "File \u001b[1;32mc:\\Users\\jpmva\\.virtualenvs\\ETL---customer-experience-project-c9QD_7vZ\\lib\\site-packages\\pandas\\core\\generic.py:6318\u001b[0m, in \u001b[0;36m<listcomp>\u001b[1;34m(.0)\u001b[0m\n\u001b[0;32m   6311\u001b[0m         results\u001b[39m.\u001b[39mappend(res_col)\n\u001b[0;32m   6313\u001b[0m \u001b[39melif\u001b[39;00m is_extension_array_dtype(dtype) \u001b[39mand\u001b[39;00m \u001b[39mself\u001b[39m\u001b[39m.\u001b[39mndim \u001b[39m>\u001b[39m \u001b[39m1\u001b[39m:\n\u001b[0;32m   6314\u001b[0m     \u001b[39m# GH 18099/22869: columnwise conversion to extension dtype\u001b[39;00m\n\u001b[0;32m   6315\u001b[0m     \u001b[39m# GH 24704: use iloc to handle duplicate column names\u001b[39;00m\n\u001b[0;32m   6316\u001b[0m     \u001b[39m# TODO(EA2D): special case not needed with 2D EAs\u001b[39;00m\n\u001b[0;32m   6317\u001b[0m     results \u001b[39m=\u001b[39m [\n\u001b[1;32m-> 6318\u001b[0m         \u001b[39mself\u001b[39;49m\u001b[39m.\u001b[39;49miloc[:, i]\u001b[39m.\u001b[39;49mastype(dtype, copy\u001b[39m=\u001b[39;49mcopy)\n\u001b[0;32m   6319\u001b[0m         \u001b[39mfor\u001b[39;00m i \u001b[39min\u001b[39;00m \u001b[39mrange\u001b[39m(\u001b[39mlen\u001b[39m(\u001b[39mself\u001b[39m\u001b[39m.\u001b[39mcolumns))\n\u001b[0;32m   6320\u001b[0m     ]\n\u001b[0;32m   6322\u001b[0m \u001b[39melse\u001b[39;00m:\n\u001b[0;32m   6323\u001b[0m     \u001b[39m# else, only a single dtype is given\u001b[39;00m\n\u001b[0;32m   6324\u001b[0m     new_data \u001b[39m=\u001b[39m \u001b[39mself\u001b[39m\u001b[39m.\u001b[39m_mgr\u001b[39m.\u001b[39mastype(dtype\u001b[39m=\u001b[39mdtype, copy\u001b[39m=\u001b[39mcopy, errors\u001b[39m=\u001b[39merrors)\n",
      "File \u001b[1;32mc:\\Users\\jpmva\\.virtualenvs\\ETL---customer-experience-project-c9QD_7vZ\\lib\\site-packages\\pandas\\core\\generic.py:6324\u001b[0m, in \u001b[0;36mNDFrame.astype\u001b[1;34m(self, dtype, copy, errors)\u001b[0m\n\u001b[0;32m   6317\u001b[0m     results \u001b[39m=\u001b[39m [\n\u001b[0;32m   6318\u001b[0m         \u001b[39mself\u001b[39m\u001b[39m.\u001b[39miloc[:, i]\u001b[39m.\u001b[39mastype(dtype, copy\u001b[39m=\u001b[39mcopy)\n\u001b[0;32m   6319\u001b[0m         \u001b[39mfor\u001b[39;00m i \u001b[39min\u001b[39;00m \u001b[39mrange\u001b[39m(\u001b[39mlen\u001b[39m(\u001b[39mself\u001b[39m\u001b[39m.\u001b[39mcolumns))\n\u001b[0;32m   6320\u001b[0m     ]\n\u001b[0;32m   6322\u001b[0m \u001b[39melse\u001b[39;00m:\n\u001b[0;32m   6323\u001b[0m     \u001b[39m# else, only a single dtype is given\u001b[39;00m\n\u001b[1;32m-> 6324\u001b[0m     new_data \u001b[39m=\u001b[39m \u001b[39mself\u001b[39;49m\u001b[39m.\u001b[39;49m_mgr\u001b[39m.\u001b[39;49mastype(dtype\u001b[39m=\u001b[39;49mdtype, copy\u001b[39m=\u001b[39;49mcopy, errors\u001b[39m=\u001b[39;49merrors)\n\u001b[0;32m   6325\u001b[0m     \u001b[39mreturn\u001b[39;00m \u001b[39mself\u001b[39m\u001b[39m.\u001b[39m_constructor(new_data)\u001b[39m.\u001b[39m__finalize__(\u001b[39mself\u001b[39m, method\u001b[39m=\u001b[39m\u001b[39m\"\u001b[39m\u001b[39mastype\u001b[39m\u001b[39m\"\u001b[39m)\n\u001b[0;32m   6327\u001b[0m \u001b[39m# GH 33113: handle empty frame or series\u001b[39;00m\n",
      "File \u001b[1;32mc:\\Users\\jpmva\\.virtualenvs\\ETL---customer-experience-project-c9QD_7vZ\\lib\\site-packages\\pandas\\core\\internals\\managers.py:451\u001b[0m, in \u001b[0;36mBaseBlockManager.astype\u001b[1;34m(self, dtype, copy, errors)\u001b[0m\n\u001b[0;32m    448\u001b[0m \u001b[39melif\u001b[39;00m using_copy_on_write():\n\u001b[0;32m    449\u001b[0m     copy \u001b[39m=\u001b[39m \u001b[39mFalse\u001b[39;00m\n\u001b[1;32m--> 451\u001b[0m \u001b[39mreturn\u001b[39;00m \u001b[39mself\u001b[39;49m\u001b[39m.\u001b[39;49mapply(\n\u001b[0;32m    452\u001b[0m     \u001b[39m\"\u001b[39;49m\u001b[39mastype\u001b[39;49m\u001b[39m\"\u001b[39;49m,\n\u001b[0;32m    453\u001b[0m     dtype\u001b[39m=\u001b[39;49mdtype,\n\u001b[0;32m    454\u001b[0m     copy\u001b[39m=\u001b[39;49mcopy,\n\u001b[0;32m    455\u001b[0m     errors\u001b[39m=\u001b[39;49merrors,\n\u001b[0;32m    456\u001b[0m     using_cow\u001b[39m=\u001b[39;49musing_copy_on_write(),\n\u001b[0;32m    457\u001b[0m )\n",
      "File \u001b[1;32mc:\\Users\\jpmva\\.virtualenvs\\ETL---customer-experience-project-c9QD_7vZ\\lib\\site-packages\\pandas\\core\\internals\\managers.py:352\u001b[0m, in \u001b[0;36mBaseBlockManager.apply\u001b[1;34m(self, f, align_keys, **kwargs)\u001b[0m\n\u001b[0;32m    350\u001b[0m         applied \u001b[39m=\u001b[39m b\u001b[39m.\u001b[39mapply(f, \u001b[39m*\u001b[39m\u001b[39m*\u001b[39mkwargs)\n\u001b[0;32m    351\u001b[0m     \u001b[39melse\u001b[39;00m:\n\u001b[1;32m--> 352\u001b[0m         applied \u001b[39m=\u001b[39m \u001b[39mgetattr\u001b[39m(b, f)(\u001b[39m*\u001b[39m\u001b[39m*\u001b[39mkwargs)\n\u001b[0;32m    353\u001b[0m     result_blocks \u001b[39m=\u001b[39m extend_blocks(applied, result_blocks)\n\u001b[0;32m    355\u001b[0m out \u001b[39m=\u001b[39m \u001b[39mtype\u001b[39m(\u001b[39mself\u001b[39m)\u001b[39m.\u001b[39mfrom_blocks(result_blocks, \u001b[39mself\u001b[39m\u001b[39m.\u001b[39maxes)\n",
      "File \u001b[1;32mc:\\Users\\jpmva\\.virtualenvs\\ETL---customer-experience-project-c9QD_7vZ\\lib\\site-packages\\pandas\\core\\internals\\blocks.py:511\u001b[0m, in \u001b[0;36mBlock.astype\u001b[1;34m(self, dtype, copy, errors, using_cow)\u001b[0m\n\u001b[0;32m    491\u001b[0m \u001b[39m\u001b[39m\u001b[39m\"\"\"\u001b[39;00m\n\u001b[0;32m    492\u001b[0m \u001b[39mCoerce to the new dtype.\u001b[39;00m\n\u001b[0;32m    493\u001b[0m \n\u001b[1;32m   (...)\u001b[0m\n\u001b[0;32m    507\u001b[0m \u001b[39mBlock\u001b[39;00m\n\u001b[0;32m    508\u001b[0m \u001b[39m\"\"\"\u001b[39;00m\n\u001b[0;32m    509\u001b[0m values \u001b[39m=\u001b[39m \u001b[39mself\u001b[39m\u001b[39m.\u001b[39mvalues\n\u001b[1;32m--> 511\u001b[0m new_values \u001b[39m=\u001b[39m astype_array_safe(values, dtype, copy\u001b[39m=\u001b[39;49mcopy, errors\u001b[39m=\u001b[39;49merrors)\n\u001b[0;32m    513\u001b[0m new_values \u001b[39m=\u001b[39m maybe_coerce_values(new_values)\n\u001b[0;32m    515\u001b[0m refs \u001b[39m=\u001b[39m \u001b[39mNone\u001b[39;00m\n",
      "File \u001b[1;32mc:\\Users\\jpmva\\.virtualenvs\\ETL---customer-experience-project-c9QD_7vZ\\lib\\site-packages\\pandas\\core\\dtypes\\astype.py:242\u001b[0m, in \u001b[0;36mastype_array_safe\u001b[1;34m(values, dtype, copy, errors)\u001b[0m\n\u001b[0;32m    239\u001b[0m     dtype \u001b[39m=\u001b[39m dtype\u001b[39m.\u001b[39mnumpy_dtype\n\u001b[0;32m    241\u001b[0m \u001b[39mtry\u001b[39;00m:\n\u001b[1;32m--> 242\u001b[0m     new_values \u001b[39m=\u001b[39m astype_array(values, dtype, copy\u001b[39m=\u001b[39;49mcopy)\n\u001b[0;32m    243\u001b[0m \u001b[39mexcept\u001b[39;00m (\u001b[39mValueError\u001b[39;00m, \u001b[39mTypeError\u001b[39;00m):\n\u001b[0;32m    244\u001b[0m     \u001b[39m# e.g. _astype_nansafe can fail on object-dtype of strings\u001b[39;00m\n\u001b[0;32m    245\u001b[0m     \u001b[39m#  trying to convert to float\u001b[39;00m\n\u001b[0;32m    246\u001b[0m     \u001b[39mif\u001b[39;00m errors \u001b[39m==\u001b[39m \u001b[39m\"\u001b[39m\u001b[39mignore\u001b[39m\u001b[39m\"\u001b[39m:\n",
      "File \u001b[1;32mc:\\Users\\jpmva\\.virtualenvs\\ETL---customer-experience-project-c9QD_7vZ\\lib\\site-packages\\pandas\\core\\dtypes\\astype.py:187\u001b[0m, in \u001b[0;36mastype_array\u001b[1;34m(values, dtype, copy)\u001b[0m\n\u001b[0;32m    184\u001b[0m     values \u001b[39m=\u001b[39m values\u001b[39m.\u001b[39mastype(dtype, copy\u001b[39m=\u001b[39mcopy)\n\u001b[0;32m    186\u001b[0m \u001b[39melse\u001b[39;00m:\n\u001b[1;32m--> 187\u001b[0m     values \u001b[39m=\u001b[39m _astype_nansafe(values, dtype, copy\u001b[39m=\u001b[39;49mcopy)\n\u001b[0;32m    189\u001b[0m \u001b[39m# in pandas we don't store numpy str dtypes, so convert to object\u001b[39;00m\n\u001b[0;32m    190\u001b[0m \u001b[39mif\u001b[39;00m \u001b[39misinstance\u001b[39m(dtype, np\u001b[39m.\u001b[39mdtype) \u001b[39mand\u001b[39;00m \u001b[39missubclass\u001b[39m(values\u001b[39m.\u001b[39mdtype\u001b[39m.\u001b[39mtype, \u001b[39mstr\u001b[39m):\n",
      "File \u001b[1;32mc:\\Users\\jpmva\\.virtualenvs\\ETL---customer-experience-project-c9QD_7vZ\\lib\\site-packages\\pandas\\core\\dtypes\\astype.py:84\u001b[0m, in \u001b[0;36m_astype_nansafe\u001b[1;34m(arr, dtype, copy, skipna)\u001b[0m\n\u001b[0;32m     82\u001b[0m \u001b[39m# dispatch on extension dtype if needed\u001b[39;00m\n\u001b[0;32m     83\u001b[0m \u001b[39mif\u001b[39;00m \u001b[39misinstance\u001b[39m(dtype, ExtensionDtype):\n\u001b[1;32m---> 84\u001b[0m     \u001b[39mreturn\u001b[39;00m dtype\u001b[39m.\u001b[39;49mconstruct_array_type()\u001b[39m.\u001b[39;49m_from_sequence(arr, dtype\u001b[39m=\u001b[39;49mdtype, copy\u001b[39m=\u001b[39;49mcopy)\n\u001b[0;32m     86\u001b[0m \u001b[39melif\u001b[39;00m \u001b[39mnot\u001b[39;00m \u001b[39misinstance\u001b[39m(dtype, np\u001b[39m.\u001b[39mdtype):  \u001b[39m# pragma: no cover\u001b[39;00m\n\u001b[0;32m     87\u001b[0m     \u001b[39mraise\u001b[39;00m \u001b[39mValueError\u001b[39;00m(\u001b[39m\"\u001b[39m\u001b[39mdtype must be np.dtype or ExtensionDtype\u001b[39m\u001b[39m\"\u001b[39m)\n",
      "File \u001b[1;32mc:\\Users\\jpmva\\.virtualenvs\\ETL---customer-experience-project-c9QD_7vZ\\lib\\site-packages\\pandas\\core\\arrays\\string_.py:358\u001b[0m, in \u001b[0;36mStringArray._from_sequence\u001b[1;34m(cls, scalars, dtype, copy)\u001b[0m\n\u001b[0;32m    356\u001b[0m         scalars \u001b[39m=\u001b[39m np\u001b[39m.\u001b[39marray(scalars)\n\u001b[0;32m    357\u001b[0m     \u001b[39m# convert non-na-likes to str, and nan-likes to StringDtype().na_value\u001b[39;00m\n\u001b[1;32m--> 358\u001b[0m     result \u001b[39m=\u001b[39m lib\u001b[39m.\u001b[39;49mensure_string_array(scalars, na_value\u001b[39m=\u001b[39;49mlibmissing\u001b[39m.\u001b[39;49mNA, copy\u001b[39m=\u001b[39;49mcopy)\n\u001b[0;32m    360\u001b[0m \u001b[39m# Manually creating new array avoids the validation step in the __init__, so is\u001b[39;00m\n\u001b[0;32m    361\u001b[0m \u001b[39m# faster. Refactor need for validation?\u001b[39;00m\n\u001b[0;32m    362\u001b[0m new_string_array \u001b[39m=\u001b[39m \u001b[39mcls\u001b[39m\u001b[39m.\u001b[39m\u001b[39m__new__\u001b[39m(\u001b[39mcls\u001b[39m)\n",
      "\u001b[1;31mKeyboardInterrupt\u001b[0m: "
     ]
    }
   ],
   "source": [
    "from google.cloud import bigquery\n",
    "\n",
    "\n",
    "project_id='customer-experience-384423'\n",
    "client = bigquery.Client(project=project_id)\n",
    "table_id_mineria_ventas_csv = 'customer-experience-384423.Data_cruda.mineria_venta'\n",
    "table_id = \"mineria_venta\"\n",
    "dataset_id = \"Data_cruda\"\n",
    "# Create the BigQuery table object\n",
    "table = bigquery.Table(f\"{project_id}.{dataset_id}.{table_id}\")\n",
    "job = client.load_table_from_dataframe(df_mineria_ventas_csv.astype('string'), table)\n",
    "job.result()\n"
   ]
  },
  {
   "cell_type": "code",
   "execution_count": 72,
   "metadata": {},
   "outputs": [],
   "source": [
    "old_column_names=df_mineria_resultado_campanas_csv.columns.to_list()\n",
    "new_column_names=['id_cliente',\n",
    "'key_movimiento',\n",
    "'codigo_campana',\n",
    "'codigo_campana_master',\n",
    "'estado',\n",
    "'nombre_campana',\n",
    "'fecha_inicio',\n",
    "'fecha_fin',\n",
    "'campo_fecha',\n",
    "'variable_1',\n",
    "'detalle_variable_1',\n",
    "'filtro_general_1',\n",
    "'variable_2',\n",
    "'detalle_variable_2',\n",
    "'filtro_general_2',\n",
    "'variable_3',\n",
    "'detalle_variable_3',\n",
    "'filtro_general_3',\n",
    "'copy',\n",
    "'cliente_contactado',\n",
    "'tipo_contacto',\n",
    "'rango_compra_historica',\n",
    "'rango_recencia',\n",
    "'rfm',\n",
    "'rfm_segmento',\n",
    "'campana_efectiva_tipo',\n",
    "'mantener_campana']\n",
    "    \n",
    "cambio_cols=dict(zip(old_column_names,new_column_names))\n",
    "df_mineria_resultado_campanas_csv.rename(columns=cambio_cols,inplace=True)"
   ]
  },
  {
   "cell_type": "code",
   "execution_count": 76,
   "metadata": {},
   "outputs": [],
   "source": [
    "project_id='customer-experience-384423'\n",
    "table_id_mineria_resultado_campanas_csv = 'customer-experience-384423.Data_cruda.mineria_resultado_campanas'\n",
    "pandas_gbq.to_gbq(df_mineria_resultado_campanas_csv.astype('string'), table_id_mineria_resultado_campanas_csv, project_id=project_id, if_exists='replace')"
   ]
  }
 ],
 "metadata": {
  "kernelspec": {
   "display_name": "ETL---customer-experience-project-c9QD_7vZ",
   "language": "python",
   "name": "python3"
  },
  "language_info": {
   "codemirror_mode": {
    "name": "ipython",
    "version": 3
   },
   "file_extension": ".py",
   "mimetype": "text/x-python",
   "name": "python",
   "nbconvert_exporter": "python",
   "pygments_lexer": "ipython3",
   "version": "3.10.6"
  },
  "orig_nbformat": 4
 },
 "nbformat": 4,
 "nbformat_minor": 2
}
